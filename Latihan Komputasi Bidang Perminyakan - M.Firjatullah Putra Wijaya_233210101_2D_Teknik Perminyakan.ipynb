{
 "cells": [
  {
   "cell_type": "markdown",
   "metadata": {},
   "source": [
    "## Menghitung Volume Reservoir"
   ]
  },
  {
   "cell_type": "code",
   "execution_count": 2,
   "metadata": {},
   "outputs": [
    {
     "name": "stdout",
     "output_type": "stream",
     "text": [
      "Volume reservoir adalah: 785.0\n"
     ]
    }
   ],
   "source": [
    "# Deklarasi\n",
    "phi = 3.14\n",
    "r = 5\n",
    "h = 10\n",
    "\n",
    "# Rumus Volume reservoir\n",
    "v = phi * r * r * h\n",
    "print(\"Volume reservoir adalah:\", v)"
   ]
  },
  {
   "cell_type": "markdown",
   "metadata": {},
   "source": [
    "## Menghitung Porositas"
   ]
  },
  {
   "cell_type": "code",
   "execution_count": 7,
   "metadata": {},
   "outputs": [
    {
     "name": "stdout",
     "output_type": "stream",
     "text": [
      "Porositas batuan adalah: 62.5\n"
     ]
    }
   ],
   "source": [
    "# Deklarasi\n",
    "vp = 25\n",
    "vb = 40\n",
    "\n",
    "# Rumus Porositas batuan\n",
    "Ø = vp/vb * 100\n",
    "print(\"Porositas batuan adalah:\",Ø)"
   ]
  },
  {
   "cell_type": "markdown",
   "metadata": {},
   "source": [
    "## Menghitung Laju Alir Minyak"
   ]
  },
  {
   "cell_type": "code",
   "execution_count": 9,
   "metadata": {},
   "outputs": [
    {
     "name": "stdout",
     "output_type": "stream",
     "text": [
      "Flow rate minyak adalah: 41.666666666666664\n"
     ]
    }
   ],
   "source": [
    "# Deklarasi\n",
    "v = 250\n",
    "t = 6\n",
    "\n",
    "# Rumus Porositas batuan\n",
    "Q = v/t\n",
    "print(\"Flow rate minyak adalah:\",Q)"
   ]
  },
  {
   "cell_type": "markdown",
   "metadata": {},
   "source": [
    "## Menghitung Recovery Factor dengan material Balance Equation"
   ]
  },
  {
   "cell_type": "code",
   "execution_count": 11,
   "metadata": {},
   "outputs": [
    {
     "name": "stdout",
     "output_type": "stream",
     "text": [
      "Recovery Factor adalah: 8.006666666666666\n"
     ]
    }
   ],
   "source": [
    "# Deklarasi\n",
    "Np = 120\n",
    "N = 15\n",
    "m = 0.1\n",
    "\n",
    "# Rumus Recovery Factor\n",
    "RF = Np/N+(m/N)\n",
    "print(\"Recovery Factor adalah:\", RF)"
   ]
  },
  {
   "cell_type": "markdown",
   "metadata": {},
   "source": [
    "## Menghitung Permeabilitas Efektif"
   ]
  },
  {
   "cell_type": "code",
   "execution_count": 26,
   "metadata": {},
   "outputs": [
    {
     "name": "stdout",
     "output_type": "stream",
     "text": [
      "Permeabilitas Efektif adalah: 0.012959999999999998\n"
     ]
    }
   ],
   "source": [
    "# Deklarasi\n",
    "n = 2\n",
    "m = 2\n",
    "Krw = 0.9\n",
    "Sw = 0.4\n",
    "Sor = 0.3\n",
    "\n",
    "# Rumus Permeabilitas Efektif\n",
    "kr = Krw * (Sw**n) * (1-Sor-Sw)**m\n",
    "print(\"Permeabilitas Efektif adalah:\", kr)"
   ]
  }
 ],
 "metadata": {
  "kernelspec": {
   "display_name": "Python 3",
   "language": "python",
   "name": "python3"
  },
  "language_info": {
   "codemirror_mode": {
    "name": "ipython",
    "version": 3
   },
   "file_extension": ".py",
   "mimetype": "text/x-python",
   "name": "python",
   "nbconvert_exporter": "python",
   "pygments_lexer": "ipython3",
   "version": "3.12.2"
  }
 },
 "nbformat": 4,
 "nbformat_minor": 2
}
