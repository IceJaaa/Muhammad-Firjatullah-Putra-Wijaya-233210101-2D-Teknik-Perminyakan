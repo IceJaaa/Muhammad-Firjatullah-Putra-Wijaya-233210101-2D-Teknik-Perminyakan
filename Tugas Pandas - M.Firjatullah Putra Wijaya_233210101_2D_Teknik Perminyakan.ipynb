{
 "cells": [
  {
   "cell_type": "markdown",
   "metadata": {},
   "source": [
    "# No 1"
   ]
  },
  {
   "cell_type": "code",
   "execution_count": 21,
   "metadata": {},
   "outputs": [
    {
     "name": "stdout",
     "output_type": "stream",
     "text": [
      "DataFrame setelah menambahkan kolom 'Domisili_asal':\n",
      "\n",
      "\n",
      "  Nama Kelas Gender     Nomor_HP Domisili_asal\n",
      "0  Ana    2A  Cewek  08113322582    Pekanbaru \n",
      "1  Anu    2B  Cowok  08129988563    Pekanbaru \n",
      "2  Ano    2C  Cowok  08137896541    Luar kota \n",
      "3  Ani    2D  Cewek  08144447789    Pekanbaru \n",
      "4  Ane    2E  Cewek  08158886665    Luar kota \n",
      "5  Abu    2F  Cowok  08173337744    Luar kota \n",
      "6  Abi    2G  Cowok  08198877444    Pekanbaru \n",
      "\n",
      "\n"
     ]
    }
   ],
   "source": [
    "# Menambahkan Kolom Baru \"Domisili_asal\"\n",
    "\n",
    "import pandas as pd\n",
    "\n",
    "data = {'Nama'    : ['Ana','Anu','Ano','Ani','Ane','Abu','Abi'],\n",
    "        'Kelas'   : ['2A','2B','2C','2D','2E','2F','2G'],\n",
    "        'Gender'  : ['Cewek','Cowok','Cowok','Cewek','Cewek','Cowok','Cowok'],\n",
    "        'Nomor_HP': ['08113322582','08129988563','08137896541','08144447789','08158886665','08173337744','08198877444']}\n",
    "\n",
    "df = pd.DataFrame(data)\n",
    "\n",
    "df['Domisili_asal'] = ['Pekanbaru ','Pekanbaru ','Luar kota ','Pekanbaru ','Luar kota ','Luar kota ','Pekanbaru ']\n",
    "print(\"DataFrame setelah menambahkan kolom 'Domisili_asal':\")\n",
    "print(\"\\n\")\n",
    "print(df)\n",
    "print(\"\\n\")"
   ]
  },
  {
   "cell_type": "markdown",
   "metadata": {},
   "source": [
    "# No 2"
   ]
  },
  {
   "cell_type": "code",
   "execution_count": 20,
   "metadata": {},
   "outputs": [
    {
     "name": "stdout",
     "output_type": "stream",
     "text": [
      "DataFrame setelah menghapus kolom 'Nomor_HP':\n",
      "\n",
      "\n",
      "  Nama Kelas Gender Domisili_asal\n",
      "0  Ana    2A  Cewek    Pekanbaru \n",
      "1  Anu    2B  Cowok    Pekanbaru \n",
      "2  Ano    2C  Cowok    Luar kota \n",
      "3  Ani    2D  Cewek    Pekanbaru \n",
      "4  Ane    2E  Cewek    Luar kota \n",
      "5  Abu    2F  Cowok    Luar kota \n",
      "6  Abi    2G  Cowok    Pekanbaru \n",
      "\n",
      "\n"
     ]
    }
   ],
   "source": [
    "# Menghapus Kolom \"Nomor_HP\"\n",
    "\n",
    "import pandas as pd\n",
    "\n",
    "data = {'Nama'          : ['Ana','Anu','Ano','Ani','Ane','Abu','Abi'],\n",
    "        'Kelas'         : ['2A','2B','2C','2D','2E','2F','2G'],\n",
    "        'Gender'        : ['Cewek','Cowok','Cowok','Cewek','Cewek','Cowok','Cowok'],\n",
    "        'Nomor_HP'      : ['08113322582','08129988563','08137896541','08144447789','08158886665','08173337744','08198877444'],\n",
    "        'Domisili_asal' : ['Pekanbaru ','Pekanbaru ','Luar kota ','Pekanbaru ','Luar kota ','Luar kota ','Pekanbaru ']}\n",
    "\n",
    "df = pd.DataFrame(data)\n",
    "\n",
    "df = df.drop(columns=['Nomor_HP'])\n",
    "print(\"DataFrame setelah menghapus kolom 'Nomor_HP':\")\n",
    "print(\"\\n\")\n",
    "print(df)\n",
    "print(\"\\n\")"
   ]
  },
  {
   "cell_type": "markdown",
   "metadata": {},
   "source": [
    "# No 3"
   ]
  },
  {
   "cell_type": "code",
   "execution_count": 22,
   "metadata": {},
   "outputs": [
    {
     "name": "stdout",
     "output_type": "stream",
     "text": [
      "DataFrame setelah menambahkan kolom 'Usia':\n",
      "\n",
      "\n",
      "  Nama Kelas Gender     Nomor_HP Domisili_asal Usia\n",
      "0  Ana    2A  Cewek  08113322582    Pekanbaru    8 \n",
      "1  Anu    2B  Cowok  08129988563    Pekanbaru    8 \n",
      "2  Ano    2C  Cowok  08137896541    Luar kota    7 \n",
      "3  Ani    2D  Cewek  08144447789    Pekanbaru    8 \n",
      "4  Ane    2E  Cewek  08158886665    Luar kota    7 \n",
      "5  Abu    2F  Cowok  08173337744    Luar kota    7 \n",
      "6  Abi    2G  Cowok  08198877444    Pekanbaru    8 \n",
      "\n",
      "\n"
     ]
    }
   ],
   "source": [
    "# Menambahkan Kolom Baru \"Usia\"\n",
    "\n",
    "import pandas as pd\n",
    "\n",
    "data = {'Nama'    : ['Ana','Anu','Ano','Ani','Ane','Abu','Abi'],\n",
    "        'Kelas'   : ['2A','2B','2C','2D','2E','2F','2G'],\n",
    "        'Gender'  : ['Cewek','Cowok','Cowok','Cewek','Cewek','Cowok','Cowok'],\n",
    "        'Nomor_HP': ['08113322582','08129988563','08137896541','08144447789','08158886665','08173337744','08198877444'],\n",
    "        'Domisili_asal' : ['Pekanbaru ','Pekanbaru ','Luar kota ','Pekanbaru ','Luar kota ','Luar kota ','Pekanbaru ']}\n",
    "\n",
    "df = pd.DataFrame(data)\n",
    "\n",
    "df['Usia'] = ['8 ','8 ','7 ','8 ','7 ','7 ','8 ']\n",
    "print(\"DataFrame setelah menambahkan kolom 'Usia':\")\n",
    "print(\"\\n\")\n",
    "print(df)\n",
    "print(\"\\n\")"
   ]
  },
  {
   "cell_type": "markdown",
   "metadata": {},
   "source": [
    "# No 4"
   ]
  },
  {
   "cell_type": "code",
   "execution_count": 25,
   "metadata": {},
   "outputs": [
    {
     "name": "stdout",
     "output_type": "stream",
     "text": [
      "Rata-rata usia: 7.571428571428571\n",
      "\n",
      "\n",
      "Total usia: 53\n",
      "\n",
      "\n"
     ]
    }
   ],
   "source": [
    "# Menghitung rata-rata Usia dan total Usia\n",
    "\n",
    "import pandas as pd\n",
    "\n",
    "data = {'Nama'          : ['Ana','Anu','Ano','Ani','Ane','Abu','Abi'],\n",
    "        'Kelas'         : ['2A','2B','2C','2D','2E','2F','2G'],\n",
    "        'Gender'        : ['Cewek','Cowok','Cowok','Cewek','Cewek','Cowok','Cowok'],\n",
    "        'Nomor_HP'      : ['08113322582','08129988563','08137896541','08144447789','08158886665','08173337744','08198877444'],\n",
    "        'Domisili_asal' : ['Pekanbaru ','Pekanbaru ','Luar kota ','Pekanbaru ','Luar kota ','Luar kota ','Pekanbaru '],\n",
    "        'Usia'          : [8,8,7,8,7,7,8]}\n",
    "\n",
    "\n",
    "df = pd.DataFrame(data)\n",
    "\n",
    "rata_usia = df['Usia'].mean()\n",
    "print(\"Rata-rata usia:\", rata_usia)\n",
    "print(\"\\n\")\n",
    "\n",
    "total_usia = df['Usia'].sum()\n",
    "print(\"Total usia:\", total_usia)\n",
    "print(\"\\n\")"
   ]
  },
  {
   "cell_type": "markdown",
   "metadata": {},
   "source": [
    "# No 5"
   ]
  },
  {
   "cell_type": "code",
   "execution_count": 50,
   "metadata": {},
   "outputs": [
    {
     "name": "stdout",
     "output_type": "stream",
     "text": [
      "Jumlah yang berasal dari:\n",
      "\n",
      "Domisili_asal\n",
      "Pekanbaru     4\n",
      "Luar kota     3\n",
      "Name: count, dtype: int64\n"
     ]
    }
   ],
   "source": [
    "# Menghitung jumlah yang berasal dari \"Pekanbaru\" dan \"Luar Kota\"\n",
    "\n",
    "import pandas as pd\n",
    "\n",
    "data = {'Nama'          : ['Ana','Anu','Ano','Ani','Ane','Abu','Abi'],\n",
    "        'Kelas'         : ['2A','2B','2C','2D','2E','2F','2G'],\n",
    "        'Gender'        : ['Cewek','Cowok','Cowok','Cewek','Cewek','Cowok','Cowok'],\n",
    "        'Nomor_HP'      : ['08113322582','08129988563','08137896541','08144447789','08158886665','08173337744','08198877444'],\n",
    "        'Domisili_asal' : ['Pekanbaru ','Pekanbaru ','Luar kota ','Pekanbaru ','Luar kota ','Luar kota ','Pekanbaru '],\n",
    "        'Usia'          : [8,8,7,8,7,7,8]}\n",
    "\n",
    "\n",
    "df = pd.DataFrame(data)\n",
    "\n",
    "jumlah_per_kota = df['Domisili_asal'].value_counts()\n",
    "print(\"Jumlah yang berasal dari:\\n\")\n",
    "print(jumlah_per_kota)"
   ]
  }
 ],
 "metadata": {
  "kernelspec": {
   "display_name": "Python 3",
   "language": "python",
   "name": "python3"
  },
  "language_info": {
   "codemirror_mode": {
    "name": "ipython",
    "version": 3
   },
   "file_extension": ".py",
   "mimetype": "text/x-python",
   "name": "python",
   "nbconvert_exporter": "python",
   "pygments_lexer": "ipython3",
   "version": "3.12.2"
  }
 },
 "nbformat": 4,
 "nbformat_minor": 2
}
